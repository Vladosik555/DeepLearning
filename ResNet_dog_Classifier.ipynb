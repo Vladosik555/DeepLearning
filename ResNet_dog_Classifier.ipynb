{
 "cells": [
  {
   "cell_type": "code",
   "execution_count": 139,
   "id": "746006c1-3dff-4aca-8284-a69aae763370",
   "metadata": {},
   "outputs": [],
   "source": [
    "import os\n",
    "import json\n",
    "import torch\n",
    "import torch.nn as nn\n",
    "from tqdm import tqdm\n",
    "import torch.optim as optim\n",
    "from PIL import Image\n",
    "import torch.utils.data as data\n",
    "import torchvision.models as models\n",
    "import torchvision.transforms.v2 as tfs"
   ]
  },
  {
   "cell_type": "code",
   "execution_count": 132,
   "id": "683093c8-4bf0-46bc-b11a-bfa1cb66fd48",
   "metadata": {},
   "outputs": [],
   "source": [
    "class DogDataset(data.Dataset):\n",
    "    def __init__(self, path, train=True, transform=None):\n",
    "        self.path = os.path.join(path, \"train\" if train else \"test\")\n",
    "        self.transform = transform\n",
    "        with open(os.path.join(self.path, \"format.json\"), \"r\") as file:\n",
    "            self.format = json.load(file)\n",
    "            \n",
    "        self.len = 0\n",
    "        self.all_files = []\n",
    "        self.targets = torch.eye(10)\n",
    "        \n",
    "        for path_, target_ in self.format.items():\n",
    "            full_path = os.path.join(self.path, path_)\n",
    "            files = os.listdir(full_path)\n",
    "            self.len += len(files)\n",
    "            self.all_files.extend(map(lambda _path: (os.path.join(full_path, _path), target_), files))\n",
    "\n",
    "    def __getitem__(self, item):\n",
    "        img, target = self.all_files[item]\n",
    "        target = self.targets[target]\n",
    "        img = Image.open(img).convert(\"RGB\")\n",
    "        if self.transform:\n",
    "            img = self.transform(img)\n",
    "        return img, target\n",
    "\n",
    "    def __len__(self):\n",
    "        return self.len"
   ]
  },
  {
   "cell_type": "code",
   "execution_count": 127,
   "id": "d47de583-103d-4072-9ea6-fbdc8ee29f6f",
   "metadata": {},
   "outputs": [
    {
     "name": "stderr",
     "output_type": "stream",
     "text": [
      "Текущая эпоха: [1/15]  Текущая средняя ошибка: 0.6256: 100%|███████████████████████████| 51/51 [00:09<00:00,  5.21it/s]\n",
      "Текущая эпоха: [2/15]  Текущая средняя ошибка: 0.1858: 100%|███████████████████████████| 51/51 [00:09<00:00,  5.17it/s]\n",
      "Текущая эпоха: [3/15]  Текущая средняя ошибка: 0.1293: 100%|███████████████████████████| 51/51 [00:10<00:00,  5.10it/s]\n",
      "Текущая эпоха: [4/15]  Текущая средняя ошибка: 0.1169: 100%|███████████████████████████| 51/51 [00:09<00:00,  5.19it/s]\n",
      "Текущая эпоха: [5/15]  Текущая средняя ошибка: 0.0924: 100%|███████████████████████████| 51/51 [00:18<00:00,  2.68it/s]\n",
      "Текущая эпоха: [6/15]  Текущая средняя ошибка: 0.0516: 100%|███████████████████████████| 51/51 [00:10<00:00,  5.07it/s]\n",
      "Текущая эпоха: [7/15]  Текущая средняя ошибка: 0.0575: 100%|███████████████████████████| 51/51 [00:09<00:00,  5.32it/s]\n",
      "Текущая эпоха: [8/15]  Текущая средняя ошибка: 0.0793: 100%|███████████████████████████| 51/51 [00:09<00:00,  5.30it/s]\n",
      "Текущая эпоха: [9/15]  Текущая средняя ошибка: 0.0602: 100%|███████████████████████████| 51/51 [00:09<00:00,  5.33it/s]\n",
      "Текущая эпоха: [10/15]  Текущая средняя ошибка: 0.0726: 100%|██████████████████████████| 51/51 [00:09<00:00,  5.35it/s]\n",
      "Текущая эпоха: [11/15]  Текущая средняя ошибка: 0.0425: 100%|██████████████████████████| 51/51 [00:09<00:00,  5.32it/s]\n",
      "Текущая эпоха: [12/15]  Текущая средняя ошибка: 0.0432: 100%|██████████████████████████| 51/51 [00:09<00:00,  5.11it/s]\n",
      "Текущая эпоха: [13/15]  Текущая средняя ошибка: 0.0462: 100%|██████████████████████████| 51/51 [00:09<00:00,  5.11it/s]\n",
      "Текущая эпоха: [14/15]  Текущая средняя ошибка: 0.0914: 100%|██████████████████████████| 51/51 [00:09<00:00,  5.13it/s]\n",
      "Текущая эпоха: [15/15]  Текущая средняя ошибка: 0.0807: 100%|██████████████████████████| 51/51 [00:09<00:00,  5.27it/s]\n"
     ]
    }
   ],
   "source": [
    "transform = models.ResNet50_Weights.DEFAULT.transforms()\n",
    "d_train = DogDataset(\"dogs\", train=True, transform=transform)\n",
    "train_data = data.DataLoader(d_train, batch_size=32, shuffle=True)\n",
    "\n",
    "device = torch.device(\"cuda\" if torch.cuda.is_available() else \"cpu\")\n",
    "\n",
    "model = models.resnet50(models.ResNet50_Weights.DEFAULT)\n",
    "model.requires_grad_(False)\n",
    "model.fc = nn.Sequential(\n",
    "    nn.Linear(512*4, 10)\n",
    ")\n",
    "model.fc.requires_grad_(True)\n",
    "model.to(device)\n",
    "\n",
    "loss_func = nn.CrossEntropyLoss()\n",
    "optimizer = optim.Adam(params=model.fc.parameters(), lr=0.01, weight_decay=0.001)\n",
    "eph = 15\n",
    "for _e in range(eph):\n",
    "    loss_mean, lm_count = 0, 0\n",
    "    tqdm_train_data = tqdm(train_data, leave=True)\n",
    "    for x_train, y_train in tqdm_train_data:\n",
    "        x_train = x_train.to(device)\n",
    "        y_train = y_train.to(device)\n",
    "        predict = model(x_train)\n",
    "        loss = loss_func(predict, y_train)\n",
    "\n",
    "        optimizer.zero_grad()\n",
    "        loss.backward()\n",
    "        optimizer.step()\n",
    "\n",
    "        lm_count += 1\n",
    "        loss_mean = 1 / lm_count * loss.item() + (1 - 1 / lm_count) * loss_mean\n",
    "\n",
    "        tqdm_train_data.set_description(f\"Текущая эпоха: [{_e+1}/{eph}]  Текущая средняя ошибка: {round(loss_mean, 4)}\")"
   ]
  },
  {
   "cell_type": "code",
   "execution_count": 128,
   "id": "907b5fce-037e-4e4c-a2e7-0b11033ad2e0",
   "metadata": {},
   "outputs": [
    {
     "name": "stderr",
     "output_type": "stream",
     "text": [
      "100%|██████████████████████████████████████████████████████████████████████████████████| 51/51 [00:09<00:00,  5.27it/s]"
     ]
    },
    {
     "name": "stdout",
     "output_type": "stream",
     "text": [
      "Процент верных классификации на тренировочной выборке: 99.632%\n"
     ]
    },
    {
     "name": "stderr",
     "output_type": "stream",
     "text": [
      "\n"
     ]
    }
   ],
   "source": [
    "#Вычислим долю верных классификай для тренировочной выборке\n",
    "model.eval()\n",
    "model.to(device)\n",
    "d_train = DogDataset(\"dogs\", train=True, transform=transform)\n",
    "train_data = data.DataLoader(d_train, batch_size=32, shuffle=True)\n",
    "Q, cnt = 0, 0\n",
    "with torch.no_grad():\n",
    "    tqdm_train_data = tqdm(train_data, leave=True)\n",
    "    for x_train, y_train in tqdm_train_data:\n",
    "        x_train = x_train.to(device)\n",
    "        y_train = y_train.to(device)\n",
    "        predict = torch.argmax(model(x_train).softmax(dim=1), dim=1).squeeze()\n",
    "        Q += (torch.mean((predict == torch.argmax(y_train, dim=1).squeeze()).float())).item()\n",
    "        cnt += 1\n",
    "Q /= cnt\n",
    "print(f\"Процент верных классификации на тренировочной выборке: {round(Q*100, 3)}%\")"
   ]
  },
  {
   "cell_type": "code",
   "execution_count": 129,
   "id": "363fcce3-65c5-4451-a991-909c121c7000",
   "metadata": {},
   "outputs": [
    {
     "name": "stderr",
     "output_type": "stream",
     "text": [
      "100%|██████████████████████████████████████████████████████████████████████████████████| 32/32 [00:02<00:00, 15.53it/s]"
     ]
    },
    {
     "name": "stdout",
     "output_type": "stream",
     "text": [
      "Процент верных классификации на тестовой выборке: 93.616%\n"
     ]
    },
    {
     "name": "stderr",
     "output_type": "stream",
     "text": [
      "\n"
     ]
    }
   ],
   "source": [
    "model.eval()\n",
    "model.to(device)\n",
    "d_test = DogDataset(\"dogs\", train=False, transform=transform)\n",
    "test_data = data.DataLoader(d_test, batch_size=10, shuffle=True)\n",
    "Q, cnt = 0, 0\n",
    "with torch.no_grad():\n",
    "    tqdm_test_data = tqdm(test_data, leave=True)\n",
    "    for x_test, y_test in tqdm_test_data:\n",
    "        x_test = x_test.to(device)\n",
    "        y_test = y_test.to(device)\n",
    "        predict = torch.argmax(model(x_test).softmax(dim=1), dim=1).squeeze()\n",
    "        Q += (torch.mean((predict == torch.argmax(y_test, dim=1).squeeze()).float())).item()\n",
    "        cnt += 1\n",
    "Q /= cnt\n",
    "print(f\"Процент верных классификации на тестовой выборке: {round(Q*100, 3)}%\")"
   ]
  },
  {
   "cell_type": "markdown",
   "id": "fe122055-0ebe-46a2-b318-e7ff4b22f2bc",
   "metadata": {},
   "source": [
    "### Результат\n",
    "* Получили довольно хорошую долю верно классицированных изображений, что на тренировочной выборке, что на тестовой"
   ]
  },
  {
   "cell_type": "code",
   "execution_count": 130,
   "id": "92cb321f-ddd6-46ca-81d0-579255db5bc6",
   "metadata": {},
   "outputs": [
    {
     "name": "stdout",
     "output_type": "stream",
     "text": [
      "Модель успешно сохранена!\n"
     ]
    }
   ],
   "source": [
    "#Сохраним модель\n",
    "torch.save(model.state_dict(), \"model_dog_slassifier.tar\")\n",
    "print(\"Модель успешно сохранена!\")"
   ]
  },
  {
   "cell_type": "code",
   "execution_count": null,
   "id": "20e74917-ac2a-480c-bd41-9b4c0b28167c",
   "metadata": {},
   "outputs": [],
   "source": []
  }
 ],
 "metadata": {
  "kernelspec": {
   "display_name": "Python 3 (ipykernel)",
   "language": "python",
   "name": "python3"
  },
  "language_info": {
   "codemirror_mode": {
    "name": "ipython",
    "version": 3
   },
   "file_extension": ".py",
   "mimetype": "text/x-python",
   "name": "python",
   "nbconvert_exporter": "python",
   "pygments_lexer": "ipython3",
   "version": "3.13.5"
  }
 },
 "nbformat": 4,
 "nbformat_minor": 5
}
