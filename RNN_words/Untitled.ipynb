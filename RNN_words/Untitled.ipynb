{
 "cells": [
  {
   "cell_type": "code",
   "execution_count": 50,
   "id": "0df91b33-39cf-45c1-9edb-2d9570276c46",
   "metadata": {},
   "outputs": [],
   "source": [
    "#Импортирование необходимых библиотек\n",
    "import re\n",
    "import os\n",
    "from tqdm import tqdm\n",
    "import torch\n",
    "import torch.nn as nn\n",
    "import torch.utils.data as data\n",
    "import torch.optim as optim\n",
    "from navec import Navec"
   ]
  },
  {
   "cell_type": "code",
   "execution_count": 109,
   "id": "66c36b7b-17f2-44b4-90b9-20ddd9b206d4",
   "metadata": {},
   "outputs": [],
   "source": [
    "#Сформируем класс датасет\n",
    "class TextDataset(data.Dataset):\n",
    "    def __init__(self, path, embedding_navec, prev_words):\n",
    "        self.prev_words = prev_words\n",
    "        self.path = path\n",
    "        self.embedding_navec = embedding_navec\n",
    "\n",
    "        with open(self.path, \"r\", encoding=\"utf8\") as file:\n",
    "            [file.readline() for _ in range(15)] #Пропустим первые 15 строк, так как они являются мусорными в нашем тексте\n",
    "            self.text = file.read()\n",
    "            self.text = self.text.replace('\\ufeff', '')  # убираем невидимый символ\n",
    "            self.text = self.text.replace('\\n', ' ')\n",
    "            self.text = re.sub(r'[^А-яA-z- ]', '', self.text)  # Отчищаем текст, от мусорных символов\n",
    "            self.text = self.text.lower().split() #Формируем список слов\n",
    "\n",
    "        self.all_words = [word for word in self.text if word in self.embedding_navec] #Все слова, которые есть в navec\n",
    "        self.unique_words = sorted(set(self.all_words)) #Уникальные слова, отсортированные\n",
    "        self.int_in_word = dict(enumerate(self.unique_words)) #Словарь число:слово\n",
    "        self.word_in_int = {b: a for a, b in self.int_in_word.items()} #Словаро слово:число\n",
    "        self.len_unique_words = len(self.unique_words) #Количество уникальных слов\n",
    "        self.len_all_words = len(self.all_words) #Количество слов\n",
    "        self.ohe = torch.eye(self.len_unique_words) #Векторы кодирования целевого значения\n",
    "\n",
    "    def __getitem__(self, item):\n",
    "        data = torch.vstack([torch.tensor(self.embedding_navec[self.all_words[index]]) for index in range(item, item+self.prev_words)])\n",
    "        target = self.word_in_int[self.all_words[item+self.prev_words]]\n",
    "        return data, target\n",
    "\n",
    "    def __len__(self):\n",
    "        return self.len_all_words - 1 - self.prev_words"
   ]
  },
  {
   "cell_type": "code",
   "execution_count": 131,
   "id": "3ecc63ca-b1fa-4cd9-9809-aede40b87128",
   "metadata": {},
   "outputs": [],
   "source": [
    "#Сформируем класс нейронной сети\n",
    "class WordsNN(nn.Module):\n",
    "    def __init__(self, in_features, out_features):\n",
    "        super().__init__()\n",
    "        self.hidden_size = 256\n",
    "        self.in_features = in_features\n",
    "        self.out_features = out_features\n",
    "\n",
    "        self.rnn = nn.RNN(in_features, self.hidden_size, batch_first=True)\n",
    "        self.out = nn.Linear(self.hidden_size, out_features)\n",
    "\n",
    "    def forward(self, x):\n",
    "        return self.out(self.rnn(x)[1])"
   ]
  },
  {
   "cell_type": "code",
   "execution_count": 181,
   "id": "9112bc5e-5113-4658-b5a7-23af74597ed5",
   "metadata": {},
   "outputs": [
    {
     "data": {
      "text/plain": [
       "3315"
      ]
     },
     "execution_count": 181,
     "metadata": {},
     "output_type": "execute_result"
    }
   ],
   "source": [
    "navec = Navec.load(\"navec_hudlit_v1_12B_500K_300d_100q.tar\")\n",
    "d_train = TextDataset(path=\"text_2.txt\", embedding_navec=navec, prev_words=10)\n",
    "train_data = data.DataLoader(d_train, batch_size=64, shuffle=True)\n",
    "len(d_train)"
   ]
  },
  {
   "cell_type": "code",
   "execution_count": 133,
   "id": "a70da9e6-0f1f-40c8-a6ca-4ccae39c7e12",
   "metadata": {
    "scrolled": true
   },
   "outputs": [
    {
     "name": "stderr",
     "output_type": "stream",
     "text": [
      "Текущая эпоха: [1/100]  Текущая ошибка: 7.9341: 100%|████████████████████████████████| 334/334 [00:04<00:00, 74.00it/s]\n",
      "Текущая эпоха: [2/100]  Текущая ошибка: 7.2955: 100%|████████████████████████████████| 334/334 [00:05<00:00, 63.19it/s]\n",
      "Текущая эпоха: [3/100]  Текущая ошибка: 6.9074: 100%|████████████████████████████████| 334/334 [00:05<00:00, 58.40it/s]\n",
      "Текущая эпоха: [4/100]  Текущая ошибка: 6.4391: 100%|████████████████████████████████| 334/334 [00:05<00:00, 56.94it/s]\n",
      "Текущая эпоха: [5/100]  Текущая ошибка: 5.9249: 100%|████████████████████████████████| 334/334 [00:05<00:00, 56.63it/s]\n",
      "Текущая эпоха: [6/100]  Текущая ошибка: 5.3987: 100%|████████████████████████████████| 334/334 [00:05<00:00, 57.68it/s]\n",
      "Текущая эпоха: [7/100]  Текущая ошибка: 4.8752: 100%|████████████████████████████████| 334/334 [00:05<00:00, 57.51it/s]\n",
      "Текущая эпоха: [8/100]  Текущая ошибка: 4.3681: 100%|████████████████████████████████| 334/334 [00:05<00:00, 57.05it/s]\n",
      "Текущая эпоха: [9/100]  Текущая ошибка: 3.8856: 100%|████████████████████████████████| 334/334 [00:05<00:00, 58.71it/s]\n",
      "Текущая эпоха: [10/100]  Текущая ошибка: 3.4395: 100%|███████████████████████████████| 334/334 [00:05<00:00, 58.87it/s]\n",
      "Текущая эпоха: [11/100]  Текущая ошибка: 3.04: 100%|█████████████████████████████████| 334/334 [00:05<00:00, 58.05it/s]\n",
      "Текущая эпоха: [12/100]  Текущая ошибка: 2.6971: 100%|███████████████████████████████| 334/334 [00:05<00:00, 58.54it/s]\n",
      "Текущая эпоха: [13/100]  Текущая ошибка: 2.4082: 100%|███████████████████████████████| 334/334 [00:05<00:00, 58.47it/s]\n",
      "Текущая эпоха: [14/100]  Текущая ошибка: 2.163: 100%|████████████████████████████████| 334/334 [00:05<00:00, 58.42it/s]\n",
      "Текущая эпоха: [15/100]  Текущая ошибка: 1.9524: 100%|███████████████████████████████| 334/334 [00:05<00:00, 58.49it/s]\n",
      "Текущая эпоха: [16/100]  Текущая ошибка: 1.7691: 100%|███████████████████████████████| 334/334 [00:05<00:00, 58.41it/s]\n",
      "Текущая эпоха: [17/100]  Текущая ошибка: 1.607: 100%|████████████████████████████████| 334/334 [00:05<00:00, 58.45it/s]\n",
      "Текущая эпоха: [18/100]  Текущая ошибка: 1.4594: 100%|███████████████████████████████| 334/334 [00:05<00:00, 58.36it/s]\n",
      "Текущая эпоха: [19/100]  Текущая ошибка: 1.3288: 100%|███████████████████████████████| 334/334 [00:05<00:00, 56.03it/s]\n",
      "Текущая эпоха: [20/100]  Текущая ошибка: 1.2065: 100%|███████████████████████████████| 334/334 [00:05<00:00, 56.34it/s]\n",
      "Текущая эпоха: [21/100]  Текущая ошибка: 1.0948: 100%|███████████████████████████████| 334/334 [00:05<00:00, 56.31it/s]\n",
      "Текущая эпоха: [22/100]  Текущая ошибка: 0.9923: 100%|███████████████████████████████| 334/334 [00:05<00:00, 55.91it/s]\n",
      "Текущая эпоха: [23/100]  Текущая ошибка: 0.897: 100%|████████████████████████████████| 334/334 [00:06<00:00, 55.45it/s]\n",
      "Текущая эпоха: [24/100]  Текущая ошибка: 0.8108: 100%|███████████████████████████████| 334/334 [00:05<00:00, 56.27it/s]\n",
      "Текущая эпоха: [25/100]  Текущая ошибка: 0.7296: 100%|███████████████████████████████| 334/334 [00:06<00:00, 50.80it/s]\n",
      "Текущая эпоха: [26/100]  Текущая ошибка: 0.6573: 100%|███████████████████████████████| 334/334 [00:06<00:00, 51.90it/s]\n",
      "Текущая эпоха: [27/100]  Текущая ошибка: 0.5907: 100%|███████████████████████████████| 334/334 [00:06<00:00, 51.91it/s]\n",
      "Текущая эпоха: [28/100]  Текущая ошибка: 0.5308: 100%|███████████████████████████████| 334/334 [00:06<00:00, 52.41it/s]\n",
      "Текущая эпоха: [29/100]  Текущая ошибка: 0.4764: 100%|███████████████████████████████| 334/334 [00:06<00:00, 52.34it/s]\n",
      "Текущая эпоха: [30/100]  Текущая ошибка: 0.4288: 100%|███████████████████████████████| 334/334 [00:06<00:00, 52.19it/s]\n",
      "Текущая эпоха: [31/100]  Текущая ошибка: 0.3881: 100%|███████████████████████████████| 334/334 [00:06<00:00, 52.27it/s]\n",
      "Текущая эпоха: [32/100]  Текущая ошибка: 0.3514: 100%|███████████████████████████████| 334/334 [00:06<00:00, 52.24it/s]\n",
      "Текущая эпоха: [33/100]  Текущая ошибка: 0.3189: 100%|███████████████████████████████| 334/334 [00:06<00:00, 52.13it/s]\n",
      "Текущая эпоха: [34/100]  Текущая ошибка: 0.2919: 100%|███████████████████████████████| 334/334 [00:06<00:00, 50.67it/s]\n",
      "Текущая эпоха: [35/100]  Текущая ошибка: 0.2704: 100%|███████████████████████████████| 334/334 [00:06<00:00, 52.34it/s]\n",
      "Текущая эпоха: [36/100]  Текущая ошибка: 0.2509: 100%|███████████████████████████████| 334/334 [00:06<00:00, 52.81it/s]\n",
      "Текущая эпоха: [37/100]  Текущая ошибка: 0.2339: 100%|███████████████████████████████| 334/334 [00:06<00:00, 52.13it/s]\n",
      "Текущая эпоха: [38/100]  Текущая ошибка: 0.2216: 100%|███████████████████████████████| 334/334 [00:06<00:00, 52.54it/s]\n",
      "Текущая эпоха: [39/100]  Текущая ошибка: 0.2093: 100%|███████████████████████████████| 334/334 [00:06<00:00, 52.15it/s]\n",
      "Текущая эпоха: [40/100]  Текущая ошибка: 0.2018: 100%|███████████████████████████████| 334/334 [00:06<00:00, 52.49it/s]\n",
      "Текущая эпоха: [41/100]  Текущая ошибка: 0.193: 100%|████████████████████████████████| 334/334 [00:06<00:00, 52.32it/s]\n",
      "Текущая эпоха: [42/100]  Текущая ошибка: 0.1859: 100%|███████████████████████████████| 334/334 [00:06<00:00, 51.40it/s]\n",
      "Текущая эпоха: [43/100]  Текущая ошибка: 0.1819: 100%|███████████████████████████████| 334/334 [00:06<00:00, 51.58it/s]\n",
      "Текущая эпоха: [44/100]  Текущая ошибка: 0.1757: 100%|███████████████████████████████| 334/334 [00:06<00:00, 52.05it/s]\n",
      "Текущая эпоха: [45/100]  Текущая ошибка: 0.1718: 100%|███████████████████████████████| 334/334 [00:06<00:00, 51.75it/s]\n",
      "Текущая эпоха: [46/100]  Текущая ошибка: 0.1685: 100%|███████████████████████████████| 334/334 [00:06<00:00, 51.72it/s]\n",
      "Текущая эпоха: [47/100]  Текущая ошибка: 0.1654: 100%|███████████████████████████████| 334/334 [00:06<00:00, 51.50it/s]\n",
      "Текущая эпоха: [48/100]  Текущая ошибка: 0.1616: 100%|███████████████████████████████| 334/334 [00:06<00:00, 51.70it/s]\n",
      "Текущая эпоха: [49/100]  Текущая ошибка: 0.1604: 100%|███████████████████████████████| 334/334 [00:06<00:00, 51.22it/s]\n",
      "Текущая эпоха: [50/100]  Текущая ошибка: 0.1574: 100%|███████████████████████████████| 334/334 [00:05<00:00, 63.92it/s]\n",
      "Текущая эпоха: [51/100]  Текущая ошибка: 0.1552: 100%|███████████████████████████████| 334/334 [00:05<00:00, 60.14it/s]\n",
      "Текущая эпоха: [52/100]  Текущая ошибка: 0.1529: 100%|███████████████████████████████| 334/334 [00:06<00:00, 51.91it/s]\n",
      "Текущая эпоха: [53/100]  Текущая ошибка: 0.1543: 100%|███████████████████████████████| 334/334 [00:06<00:00, 55.00it/s]\n",
      "Текущая эпоха: [54/100]  Текущая ошибка: 0.1502: 100%|███████████████████████████████| 334/334 [00:05<00:00, 62.47it/s]\n",
      "Текущая эпоха: [55/100]  Текущая ошибка: 0.1358:  85%|██████████████████████████▍    | 285/334 [00:05<00:00, 56.61it/s]\n"
     ]
    },
    {
     "ename": "KeyboardInterrupt",
     "evalue": "",
     "output_type": "error",
     "traceback": [
      "\u001b[1;31m---------------------------------------------------------------------------\u001b[0m",
      "\u001b[1;31mKeyboardInterrupt\u001b[0m                         Traceback (most recent call last)",
      "Cell \u001b[1;32mIn[133], line 19\u001b[0m\n\u001b[0;32m     17\u001b[0m lm_count, loss_mean \u001b[38;5;241m=\u001b[39m \u001b[38;5;241m0\u001b[39m, \u001b[38;5;241m0\u001b[39m\n\u001b[0;32m     18\u001b[0m tqdm_train_data \u001b[38;5;241m=\u001b[39m tqdm(train_data, leave\u001b[38;5;241m=\u001b[39m\u001b[38;5;28;01mTrue\u001b[39;00m)\n\u001b[1;32m---> 19\u001b[0m \u001b[38;5;28;01mfor\u001b[39;00m x_train, y_train \u001b[38;5;129;01min\u001b[39;00m tqdm_train_data:\n\u001b[0;32m     20\u001b[0m     x_train \u001b[38;5;241m=\u001b[39m x_train\u001b[38;5;241m.\u001b[39mto(device)\n\u001b[0;32m     21\u001b[0m     y_train \u001b[38;5;241m=\u001b[39m y_train\u001b[38;5;241m.\u001b[39mto(device)\n",
      "File \u001b[1;32m~\\anaconda3\\Lib\\site-packages\\tqdm\\std.py:1181\u001b[0m, in \u001b[0;36mtqdm.__iter__\u001b[1;34m(self)\u001b[0m\n\u001b[0;32m   1178\u001b[0m time \u001b[38;5;241m=\u001b[39m \u001b[38;5;28mself\u001b[39m\u001b[38;5;241m.\u001b[39m_time\n\u001b[0;32m   1180\u001b[0m \u001b[38;5;28;01mtry\u001b[39;00m:\n\u001b[1;32m-> 1181\u001b[0m     \u001b[38;5;28;01mfor\u001b[39;00m obj \u001b[38;5;129;01min\u001b[39;00m iterable:\n\u001b[0;32m   1182\u001b[0m         \u001b[38;5;28;01myield\u001b[39;00m obj\n\u001b[0;32m   1183\u001b[0m         \u001b[38;5;66;03m# Update and possibly print the progressbar.\u001b[39;00m\n\u001b[0;32m   1184\u001b[0m         \u001b[38;5;66;03m# Note: does not call self.update(1) for speed optimisation.\u001b[39;00m\n",
      "File \u001b[1;32m~\\anaconda3\\Lib\\site-packages\\torch\\utils\\data\\dataloader.py:708\u001b[0m, in \u001b[0;36m_BaseDataLoaderIter.__next__\u001b[1;34m(self)\u001b[0m\n\u001b[0;32m    705\u001b[0m \u001b[38;5;28;01mif\u001b[39;00m \u001b[38;5;28mself\u001b[39m\u001b[38;5;241m.\u001b[39m_sampler_iter \u001b[38;5;129;01mis\u001b[39;00m \u001b[38;5;28;01mNone\u001b[39;00m:\n\u001b[0;32m    706\u001b[0m     \u001b[38;5;66;03m# TODO(https://github.com/pytorch/pytorch/issues/76750)\u001b[39;00m\n\u001b[0;32m    707\u001b[0m     \u001b[38;5;28mself\u001b[39m\u001b[38;5;241m.\u001b[39m_reset()  \u001b[38;5;66;03m# type: ignore[call-arg]\u001b[39;00m\n\u001b[1;32m--> 708\u001b[0m data \u001b[38;5;241m=\u001b[39m \u001b[38;5;28mself\u001b[39m\u001b[38;5;241m.\u001b[39m_next_data()\n\u001b[0;32m    709\u001b[0m \u001b[38;5;28mself\u001b[39m\u001b[38;5;241m.\u001b[39m_num_yielded \u001b[38;5;241m+\u001b[39m\u001b[38;5;241m=\u001b[39m \u001b[38;5;241m1\u001b[39m\n\u001b[0;32m    710\u001b[0m \u001b[38;5;28;01mif\u001b[39;00m (\n\u001b[0;32m    711\u001b[0m     \u001b[38;5;28mself\u001b[39m\u001b[38;5;241m.\u001b[39m_dataset_kind \u001b[38;5;241m==\u001b[39m _DatasetKind\u001b[38;5;241m.\u001b[39mIterable\n\u001b[0;32m    712\u001b[0m     \u001b[38;5;129;01mand\u001b[39;00m \u001b[38;5;28mself\u001b[39m\u001b[38;5;241m.\u001b[39m_IterableDataset_len_called \u001b[38;5;129;01mis\u001b[39;00m \u001b[38;5;129;01mnot\u001b[39;00m \u001b[38;5;28;01mNone\u001b[39;00m\n\u001b[0;32m    713\u001b[0m     \u001b[38;5;129;01mand\u001b[39;00m \u001b[38;5;28mself\u001b[39m\u001b[38;5;241m.\u001b[39m_num_yielded \u001b[38;5;241m>\u001b[39m \u001b[38;5;28mself\u001b[39m\u001b[38;5;241m.\u001b[39m_IterableDataset_len_called\n\u001b[0;32m    714\u001b[0m ):\n",
      "File \u001b[1;32m~\\anaconda3\\Lib\\site-packages\\torch\\utils\\data\\dataloader.py:764\u001b[0m, in \u001b[0;36m_SingleProcessDataLoaderIter._next_data\u001b[1;34m(self)\u001b[0m\n\u001b[0;32m    762\u001b[0m \u001b[38;5;28;01mdef\u001b[39;00m\u001b[38;5;250m \u001b[39m\u001b[38;5;21m_next_data\u001b[39m(\u001b[38;5;28mself\u001b[39m):\n\u001b[0;32m    763\u001b[0m     index \u001b[38;5;241m=\u001b[39m \u001b[38;5;28mself\u001b[39m\u001b[38;5;241m.\u001b[39m_next_index()  \u001b[38;5;66;03m# may raise StopIteration\u001b[39;00m\n\u001b[1;32m--> 764\u001b[0m     data \u001b[38;5;241m=\u001b[39m \u001b[38;5;28mself\u001b[39m\u001b[38;5;241m.\u001b[39m_dataset_fetcher\u001b[38;5;241m.\u001b[39mfetch(index)  \u001b[38;5;66;03m# may raise StopIteration\u001b[39;00m\n\u001b[0;32m    765\u001b[0m     \u001b[38;5;28;01mif\u001b[39;00m \u001b[38;5;28mself\u001b[39m\u001b[38;5;241m.\u001b[39m_pin_memory:\n\u001b[0;32m    766\u001b[0m         data \u001b[38;5;241m=\u001b[39m _utils\u001b[38;5;241m.\u001b[39mpin_memory\u001b[38;5;241m.\u001b[39mpin_memory(data, \u001b[38;5;28mself\u001b[39m\u001b[38;5;241m.\u001b[39m_pin_memory_device)\n",
      "File \u001b[1;32m~\\anaconda3\\Lib\\site-packages\\torch\\utils\\data\\_utils\\fetch.py:52\u001b[0m, in \u001b[0;36m_MapDatasetFetcher.fetch\u001b[1;34m(self, possibly_batched_index)\u001b[0m\n\u001b[0;32m     50\u001b[0m         data \u001b[38;5;241m=\u001b[39m \u001b[38;5;28mself\u001b[39m\u001b[38;5;241m.\u001b[39mdataset\u001b[38;5;241m.\u001b[39m__getitems__(possibly_batched_index)\n\u001b[0;32m     51\u001b[0m     \u001b[38;5;28;01melse\u001b[39;00m:\n\u001b[1;32m---> 52\u001b[0m         data \u001b[38;5;241m=\u001b[39m [\u001b[38;5;28mself\u001b[39m\u001b[38;5;241m.\u001b[39mdataset[idx] \u001b[38;5;28;01mfor\u001b[39;00m idx \u001b[38;5;129;01min\u001b[39;00m possibly_batched_index]\n\u001b[0;32m     53\u001b[0m \u001b[38;5;28;01melse\u001b[39;00m:\n\u001b[0;32m     54\u001b[0m     data \u001b[38;5;241m=\u001b[39m \u001b[38;5;28mself\u001b[39m\u001b[38;5;241m.\u001b[39mdataset[possibly_batched_index]\n",
      "Cell \u001b[1;32mIn[109], line 25\u001b[0m, in \u001b[0;36mTextDataset.__getitem__\u001b[1;34m(self, item)\u001b[0m\n\u001b[0;32m     24\u001b[0m \u001b[38;5;28;01mdef\u001b[39;00m\u001b[38;5;250m \u001b[39m\u001b[38;5;21m__getitem__\u001b[39m(\u001b[38;5;28mself\u001b[39m, item):\n\u001b[1;32m---> 25\u001b[0m     data \u001b[38;5;241m=\u001b[39m torch\u001b[38;5;241m.\u001b[39mvstack([torch\u001b[38;5;241m.\u001b[39mtensor(\u001b[38;5;28mself\u001b[39m\u001b[38;5;241m.\u001b[39membedding_navec[\u001b[38;5;28mself\u001b[39m\u001b[38;5;241m.\u001b[39mall_words[index]]) \u001b[38;5;28;01mfor\u001b[39;00m index \u001b[38;5;129;01min\u001b[39;00m \u001b[38;5;28mrange\u001b[39m(item, item\u001b[38;5;241m+\u001b[39m\u001b[38;5;28mself\u001b[39m\u001b[38;5;241m.\u001b[39mprev_words)])\n\u001b[0;32m     26\u001b[0m     target \u001b[38;5;241m=\u001b[39m \u001b[38;5;28mself\u001b[39m\u001b[38;5;241m.\u001b[39mword_in_int[\u001b[38;5;28mself\u001b[39m\u001b[38;5;241m.\u001b[39mall_words[item\u001b[38;5;241m+\u001b[39m\u001b[38;5;28mself\u001b[39m\u001b[38;5;241m.\u001b[39mprev_words]]\n\u001b[0;32m     27\u001b[0m     \u001b[38;5;28;01mreturn\u001b[39;00m data, target\n",
      "File \u001b[1;32m~\\anaconda3\\Lib\\site-packages\\navec\\navec.py:24\u001b[0m, in \u001b[0;36mNavec.__getitem__\u001b[1;34m(self, word)\u001b[0m\n\u001b[0;32m     22\u001b[0m \u001b[38;5;28;01mdef\u001b[39;00m\u001b[38;5;250m \u001b[39m\u001b[38;5;21m__getitem__\u001b[39m(\u001b[38;5;28mself\u001b[39m, word):\n\u001b[0;32m     23\u001b[0m     \u001b[38;5;28mid\u001b[39m \u001b[38;5;241m=\u001b[39m \u001b[38;5;28mself\u001b[39m\u001b[38;5;241m.\u001b[39mvocab[word]\n\u001b[1;32m---> 24\u001b[0m     \u001b[38;5;28;01mreturn\u001b[39;00m \u001b[38;5;28mself\u001b[39m\u001b[38;5;241m.\u001b[39mpq[\u001b[38;5;28mid\u001b[39m]\n",
      "File \u001b[1;32m~\\anaconda3\\Lib\\site-packages\\navec\\pq.py:43\u001b[0m, in \u001b[0;36mPQ.__getitem__\u001b[1;34m(self, id)\u001b[0m\n\u001b[0;32m     41\u001b[0m indexes \u001b[38;5;241m=\u001b[39m \u001b[38;5;28mself\u001b[39m\u001b[38;5;241m.\u001b[39mindexes[\u001b[38;5;28mid\u001b[39m]\n\u001b[0;32m     42\u001b[0m parts \u001b[38;5;241m=\u001b[39m \u001b[38;5;28mself\u001b[39m\u001b[38;5;241m.\u001b[39mcodes[\u001b[38;5;28mself\u001b[39m\u001b[38;5;241m.\u001b[39mqdims, indexes]\n\u001b[1;32m---> 43\u001b[0m \u001b[38;5;28;01mreturn\u001b[39;00m parts\u001b[38;5;241m.\u001b[39mreshape(\u001b[38;5;28mself\u001b[39m\u001b[38;5;241m.\u001b[39mdim)\n",
      "\u001b[1;31mKeyboardInterrupt\u001b[0m: "
     ]
    }
   ],
   "source": [
    "#Сформируем процесс обучения нейронной сети\n",
    "eph = 100\n",
    "device = torch.device(\"cuda\" if torch.cuda.is_available() else \"cpu\")\n",
    "#Формируем выборку\n",
    "navec = Navec.load(\"navec_hudlit_v1_12B_500K_300d_100q.tar\")\n",
    "d_train = TextDataset(path=\"Plen_Aleksandra_Podarok_(SI)_Litmir.net_228863_c29a0.txt\", embedding_navec=navec, prev_words=10)\n",
    "train_data = data.DataLoader(d_train, batch_size=64, shuffle=True)\n",
    "#Сформируем объект модели\n",
    "model = WordsNN(in_features=300, out_features=d_train.len_unique_words)\n",
    "model.train()\n",
    "model.to(device)\n",
    "#Зададим оптимизаторы и функцию потерь\n",
    "loss_func = nn.CrossEntropyLoss()\n",
    "optimizer = optim.Adam(params=model.parameters(), lr=0.0005, weight_decay=0.0001)\n",
    "#Зададим процесс обучения\n",
    "for _e in range(eph):\n",
    "    lm_count, loss_mean = 0, 0\n",
    "    tqdm_train_data = tqdm(train_data, leave=True)\n",
    "    for x_train, y_train in tqdm_train_data:\n",
    "        x_train = x_train.to(device)\n",
    "        y_train = y_train.to(device)\n",
    "\n",
    "        predict = model(x_train).squeeze(0)\n",
    "        loss = loss_func(predict, y_train)\n",
    "\n",
    "        optimizer.zero_grad()\n",
    "        loss.backward()\n",
    "        optimizer.step()\n",
    "\n",
    "        lm_count += 1\n",
    "        loss_mean = 1 / lm_count * loss.item() + (1 - 1 / lm_count) * loss_mean\n",
    "\n",
    "        tqdm_train_data.set_description(f\"Текущая эпоха: [{_e+1}/{eph}]  Текущая ошибка: {round(loss_mean, 4)}\")"
   ]
  },
  {
   "cell_type": "code",
   "execution_count": 135,
   "id": "b0aca450-9c46-4970-85ba-b0cbb8137f2d",
   "metadata": {},
   "outputs": [
    {
     "name": "stdout",
     "output_type": "stream",
     "text": [
      "Модель была успешно сохранена!\n"
     ]
    }
   ],
   "source": [
    "#Остановим процесс обучения, так как был достигнут локальный минимум, сохраним модель\n",
    "state_dict = model.state_dict()\n",
    "torch.save(state_dict, \"model_rnn_words.tar\")\n",
    "print(\"Модель была успешно сохранена!\")"
   ]
  },
  {
   "cell_type": "code",
   "execution_count": null,
   "id": "47083810-9ce0-4f8e-83a0-c00835f24501",
   "metadata": {},
   "outputs": [],
   "source": [
    "#Сделаем предсказание модели\n",
    "model.eval()\n",
    "model.to(\"cpu\")\n",
    "predict = \"что на высоте десяти километров сотовую связь телефону не обнаружить никак и все это бесполезно\"\n",
    "total = 20\n",
    "for _ in range(total):\n",
    "    data = "
   ]
  },
  {
   "cell_type": "code",
   "execution_count": null,
   "id": "6cef72d3-e98c-4fc2-a60a-03444aca1fff",
   "metadata": {},
   "outputs": [],
   "source": []
  }
 ],
 "metadata": {
  "kernelspec": {
   "display_name": "Python 3 (ipykernel)",
   "language": "python",
   "name": "python3"
  },
  "language_info": {
   "codemirror_mode": {
    "name": "ipython",
    "version": 3
   },
   "file_extension": ".py",
   "mimetype": "text/x-python",
   "name": "python",
   "nbconvert_exporter": "python",
   "pygments_lexer": "ipython3",
   "version": "3.13.5"
  }
 },
 "nbformat": 4,
 "nbformat_minor": 5
}
